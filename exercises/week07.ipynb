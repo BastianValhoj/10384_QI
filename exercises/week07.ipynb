{
 "cells": [
  {
   "cell_type": "code",
   "execution_count": 2,
   "id": "63c50578",
   "metadata": {},
   "outputs": [],
   "source": [
    "import numpy as np"
   ]
  },
  {
   "cell_type": "markdown",
   "id": "31c18612",
   "metadata": {},
   "source": [
    "# Binary numbers"
   ]
  },
  {
   "cell_type": "markdown",
   "id": "a03469e1",
   "metadata": {},
   "source": [
    "## 1. Practice writing numbers in binary format, i.e. in base-2, i.e. as a bit string.\n",
    "1) Write the numbers from 0₁₀ to 15₁₀ in binary.\n",
    "\n",
    "| Decimal |   0  |   1  |   2  |   3  |   4  |   5  |   6  |   7  |   8  |   9  |  10  |  11  |  12  |  13  |  14  |  15  |\n",
    "|  ---:   | :--: | :--: | :--: | :--: | :--: | :--: | :--: | :--: | :--: | :--: | :--: | :--: | :--: | :--: | :--: | :--: |  \n",
    "|  Binary | 0000 | 0001 | 0010 | 0011 | 0100 | 0101 | 0110 | 0111 | 1000 | 1001 | 1010 | 1011 | 1100 | 1101 | 1110 | 1111 |\n",
    "\n",
    "\n",
    "2) Convert these binary numbers to decimal numbers:\n",
    "11010₂ , 1010101₂ , 10000000000₂\n",
    "\n",
    "|  Binary |   110110  |   1010101  |   10000000000  |\n",
    "|  ---:   | :-------: | :--------: | :-------------: |\n",
    "| Decimal | 32+16+4+2 |  64+16+4+1 |            1024 |\n",
    "|         |        54 |  85        |            1024 |\n",
    "\n",
    "3) Convert these decimal numbers to binary numbers:\n",
    "77₁₀ , 511₁₀ , 513₁₀\n",
    "\n",
    "| Decimal |        77 |  511                        |         513 |\n",
    "|  ---:   | :-------: | :------------------------:  | :---------: |\n",
    "| Decimal | 64+8+4+1  |  256+128+64+32+16+8+4+2+1   | 521+1       |\n",
    "|  Binary |   1001101  |   111111111                |  1000000001 |\n",
    "\n",
    "4) How many bits (binary digits) are needed to represent these numbers?\n",
    "30₁₀ , 300₁₀ , 3000₁₀ , 30000₁₀\n",
    "\n",
    "|  Decimal |   30      |  300        |    3000    | 30000  |\n",
    "|  ----:   | :-------: | :--------:  | :--------: | :----: |\n",
    "| num bits |   5       | 9           |  12        | 15     |\n",
    "\n",
    "$N_\\mathrm{bits} = \\lfloor\\log_2(x) + 1\\rfloor$"
   ]
  },
  {
   "cell_type": "code",
   "execution_count": null,
   "id": "d0d70b2b",
   "metadata": {},
   "outputs": [
    {
     "data": {
      "text/plain": [
       "np.float64(15.0)"
      ]
     },
     "execution_count": 29,
     "metadata": {},
     "output_type": "execute_result"
    }
   ],
   "source": [
    "# 0b110110, 0b1010101, 0b10000000000\n",
    "# 0b1001101, 0b111111111, 0b1000000001"
   ]
  },
  {
   "cell_type": "markdown",
   "id": "17079877",
   "metadata": {},
   "source": [
    "### 2. Binary addition. Calculate the following"
   ]
  },
  {
   "cell_type": "markdown",
   "id": "199e736a",
   "metadata": {},
   "source": [
    "1. 1101₂ + 0010₂ = 1111₂\n",
    "2. 1101₂ + 0011₂ = 10000₂\n",
    "3. 111111₂ + 000100₂ = 1000011₂"
   ]
  },
  {
   "cell_type": "markdown",
   "id": "4732db56",
   "metadata": {},
   "source": [
    "### 3. The bitwise addition modulo 2 or XOR (exlusive-OR) with the symbol can also be considered as addition without carry or as bit value toggling with a mask.\n",
    "\n",
    "1. 1101₂ ⊕ 10₂ = 1111\n",
    "2. 1101₂ ⊕ 11₂ = 1110\n",
    "3. 101101001₂ ⊕ 111001011₂ = 010100010\n"
   ]
  },
  {
   "cell_type": "markdown",
   "id": "25b7cc01",
   "metadata": {},
   "source": [
    "## 4. Division by factors of 2.\n",
    "1. 100₂ / 10₂ = 010\n",
    "2. 1100₂ / 10₂ = ?\n",
    "3. 1000₂ / 1000₂ = ?\n"
   ]
  },
  {
   "cell_type": "code",
   "execution_count": 87,
   "id": "2b0f0356",
   "metadata": {},
   "outputs": [
    {
     "data": {
      "text/plain": [
       "159"
      ]
     },
     "execution_count": 87,
     "metadata": {},
     "output_type": "execute_result"
    }
   ],
   "source": [
    "0x9f"
   ]
  },
  {
   "cell_type": "code",
   "execution_count": null,
   "id": "9d536826",
   "metadata": {},
   "outputs": [],
   "source": []
  }
 ],
 "metadata": {
  "kernelspec": {
   "display_name": "qi",
   "language": "python",
   "name": "python3"
  },
  "language_info": {
   "codemirror_mode": {
    "name": "ipython",
    "version": 3
   },
   "file_extension": ".py",
   "mimetype": "text/x-python",
   "name": "python",
   "nbconvert_exporter": "python",
   "pygments_lexer": "ipython3",
   "version": "3.13.7"
  }
 },
 "nbformat": 4,
 "nbformat_minor": 5
}
