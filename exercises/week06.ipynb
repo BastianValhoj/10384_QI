{
 "cells": [
  {
   "cell_type": "code",
   "execution_count": 1,
   "id": "5e7afbd9",
   "metadata": {},
   "outputs": [],
   "source": [
    "import qutip as qt\n",
    "import numpy as np"
   ]
  },
  {
   "cell_type": "code",
   "execution_count": null,
   "id": "0c0d7f17",
   "metadata": {},
   "outputs": [],
   "source": [
    "rho = lambda theta: np.cos(theta)*qt.basis(2,0) + np.sin(theta)*qt.basis(2,1)\n",
    "y = qt.basis(2,1)\n",
    "x = qt.basis(2,0)"
   ]
  },
  {
   "cell_type": "code",
   "execution_count": null,
   "id": "c9d918d8",
   "metadata": {},
   "outputs": [
    {
     "name": "stdout",
     "output_type": "stream",
     "text": [
      "(0.5411961001461969+0j)\n"
     ]
    }
   ],
   "source": [
    "res1 = x.dag() * rho(-np.pi/8)\n",
    "res2 = y.dag() * rho(-np.pi/8)\n",
    "res3 = x.dag() * rho(3*np.pi/8)\n",
    "res4 = y.dag() * rho(3*np.pi/8)\n",
    "\n",
    "result1 = (y.dag()*y * res1) + (x.dag()*x * res2)\n",
    "print(result1)"
   ]
  },
  {
   "cell_type": "code",
   "execution_count": 4,
   "id": "e1a68b6a",
   "metadata": {},
   "outputs": [],
   "source": [
    "def Alice(x, bell):\n",
    "    if x == 0:\n",
    "        pass\n",
    "    else:\n",
    "        pass\n",
    "def Bob(y, bell):\n",
    "    if y == 0:\n",
    "        pass\n",
    "    else:\n",
    "        pass\n",
    "    \n",
    "def outcome(plus, minus):\n",
    "    return np.random.choice([1,-1], p=[plus, minus])\n",
    "\n",
    "\n",
    "def CHSH(x,y):\n",
    "    bell = qt.bell_state('00')\n",
    "    pass\n",
    "\n",
    "CHSH(0,0)"
   ]
  },
  {
   "cell_type": "code",
   "execution_count": 5,
   "id": "dd2f33a7",
   "metadata": {},
   "outputs": [
    {
     "name": "stdout",
     "output_type": "stream",
     "text": [
      "0.855\n"
     ]
    }
   ],
   "source": [
    "# pip install qutip numpy\n",
    "import numpy as np\n",
    "import qutip as qt\n",
    "\n",
    "I2 = qt.qeye(2)\n",
    "sx, sz = qt.sigmax(), qt.sigmaz()\n",
    "\n",
    "def _observable(theta):\n",
    "    # spin along angle theta in x–z plane\n",
    "    return np.cos(theta) * sz + np.sin(theta) * sx\n",
    "\n",
    "def _projectors(obs):\n",
    "    vals, vecs = obs.eigenstates()\n",
    "    # sort so +1 eigenvector first, -1 second\n",
    "    pairs = sorted(zip(vals, vecs), key=lambda p: p[0], reverse=True)\n",
    "    P_plus  = pairs[0][1] * pairs[0][1].dag()\n",
    "    P_minus = pairs[1][1] * pairs[1][1].dag()\n",
    "    return P_plus, P_minus  # outcomes s = +1, -1\n",
    "\n",
    "# CHSH-optimal angles for |Φ+>\n",
    "A_thetas = {0: 0.0,        1: np.pi/2}   # A0 = σz, A1 = σx\n",
    "B_thetas = {0: +np.pi/4,   1: -np.pi/4}  # B0 = (σz+σx)/√2, B1 = (σz-σx)/√2\n",
    "\n",
    "def Alice(x, bell):\n",
    "    if x == 0:\n",
    "        theta = A_thetas[0]\n",
    "    else:\n",
    "        theta = A_thetas[1]\n",
    "    Ax = _observable(theta)\n",
    "    Pp, Pm = _projectors(Ax)  # on qubit A\n",
    "    # Joint projectors M_a = P_a ⊗ I\n",
    "    M_plus  = qt.tensor(Pp, I2)\n",
    "    M_minus = qt.tensor(Pm, I2)\n",
    "\n",
    "    p_plus  = (bell.dag() * M_plus  * bell).real\n",
    "    p_minus = (bell.dag() * M_minus * bell).real\n",
    "    p_plus  = max(0.0, min(1.0, p_plus))\n",
    "    p_minus = max(0.0, min(1.0, p_minus))\n",
    "    norm = p_plus + p_minus\n",
    "    p_plus, p_minus = p_plus / norm, p_minus / norm\n",
    "\n",
    "    outcome = np.random.choice([+1, -1], p=[p_plus, p_minus])\n",
    "    M = M_plus if outcome == +1 else M_minus\n",
    "    post = (M * bell).unit()\n",
    "    a = 0 if outcome == +1 else 1  # map s=+1 -> 0, s=-1 -> 1\n",
    "    return a, post\n",
    "\n",
    "def Bob(y, bell):\n",
    "    if y == 0:\n",
    "        theta = B_thetas[0]\n",
    "    else:\n",
    "        theta = B_thetas[1]\n",
    "    By = _observable(theta)\n",
    "    Pp, Pm = _projectors(By)  # on qubit B\n",
    "    # Joint projectors N_b = I ⊗ P_b\n",
    "    N_plus  = qt.tensor(I2, Pp)\n",
    "    N_minus = qt.tensor(I2, Pm)\n",
    "\n",
    "    p_plus  = (bell.dag() * N_plus  * bell).real\n",
    "    p_minus = (bell.dag() * N_minus * bell).real\n",
    "    p_plus  = max(0.0, min(1.0, p_plus))\n",
    "    p_minus = max(0.0, min(1.0, p_minus))\n",
    "    norm = p_plus + p_minus\n",
    "    p_plus, p_minus = p_plus / norm, p_minus / norm\n",
    "\n",
    "    outcome = np.random.choice([+1, -1], p=[p_plus, p_minus])\n",
    "    N = N_plus if outcome == +1 else N_minus\n",
    "    post = (N * bell).unit()\n",
    "    b = 0 if outcome == +1 else 1  # map s=+1 -> 0, s=-1 -> 1\n",
    "    return b, post\n",
    "\n",
    "def CHSH(x, y):\n",
    "    bell = qt.bell_state('00')  # |Φ+> = (|00> + |11>)/√2\n",
    "    a, post_alice = Alice(x, bell)\n",
    "    b, _ = Bob(y, post_alice)\n",
    "    win = (a ^ b) == (x & y)\n",
    "    return a, b, win\n",
    "\n",
    "# Example:\n",
    "wins = []\n",
    "for _ in range(1000):\n",
    "    x, y = np.random.choice([0,1], size=2)\n",
    "    *_, win = CHSH(x, y)\n",
    "    wins.append(win)\n",
    "\n",
    "print(np.sum(wins) / len(wins))"
   ]
  },
  {
   "cell_type": "code",
   "execution_count": null,
   "id": "39c80442",
   "metadata": {},
   "outputs": [
    {
     "data": {
      "text/plain": [
       "('(-0.70710678118655+0j) |11> + (0.70710678118655+0j) |00>',\n",
       " '(0.70710678118655+0j) |10> + (0.70710678118655+0j) |01>',\n",
       " '(-0.70710678118655+0j) |10> + (0.70710678118655+0j) |01>',\n",
       " '(0.70710678118655+0j) |10> + (-0.70710678118655+0j) |01>')"
      ]
     },
     "execution_count": 39,
     "metadata": {},
     "output_type": "execute_result"
    }
   ],
   "source": [
    "zero = qt.basis(2,0)\n",
    "one = qt.basis(2,1)\n",
    "plus = (zero + one).unit()\n",
    "minus = (zero - one).unit()\n",
    "\n",
    "def phi(basis, sign):\n",
    "    x, y = basis\n",
    "    X = qt.tensor(x,x)\n",
    "    Y = qt.tensor(y,y)\n",
    "    if sign == \"+\":\n",
    "        return (X + Y).unit()\n",
    "    elif sign == \"-\":\n",
    "        return (X - Y).unit()\n",
    "\n",
    "def psi(basis, sign):\n",
    "    x, y = basis\n",
    "    X = qt.tensor(x,y)\n",
    "    Y = qt.tensor(y,x)\n",
    "    if sign == \"+\":\n",
    "        return (X + Y).unit()\n",
    "    elif sign == \"-\":\n",
    "        return (X - Y).unit()\n",
    "    \n",
    "    \n",
    "sign = \"+\"\n",
    "res1 = phi([zero, one], sign)\n",
    "res2 = phi([plus, minus], sign)\n",
    "\n",
    "res3 = psi([zero, one], sign)\n",
    "res4 = psi([plus, minus], sign)\n",
    "\n",
    "res1.basis_expansion(), res2.basis_expansion(), res3.basis_expansion(), res4.basis_expansion()"
   ]
  },
  {
   "cell_type": "code",
   "execution_count": 42,
   "id": "ece481ff",
   "metadata": {},
   "outputs": [
    {
     "data": {
      "text/latex": [
       "Quantum object: dims=[[2], [2]], shape=(2, 2), type='oper', dtype=CSR, isherm=False$$\\left(\\begin{array}{cc}0 & -1\\\\1 & 0\\end{array}\\right)$$"
      ],
      "text/plain": [
       "Quantum object: dims=[[2], [2]], shape=(2, 2), type='oper', dtype=CSR, isherm=False\n",
       "Qobj data =\n",
       "[[ 0. -1.]\n",
       " [ 1.  0.]]"
      ]
     },
     "execution_count": 42,
     "metadata": {},
     "output_type": "execute_result"
    }
   ],
   "source": [
    "X = qt.sigmax()\n",
    "Y = qt.sigmay()\n",
    "Z = qt.sigmaz()\n",
    "X*Z"
   ]
  }
 ],
 "metadata": {
  "kernelspec": {
   "display_name": "qi",
   "language": "python",
   "name": "python3"
  },
  "language_info": {
   "codemirror_mode": {
    "name": "ipython",
    "version": 3
   },
   "file_extension": ".py",
   "mimetype": "text/x-python",
   "name": "python",
   "nbconvert_exporter": "python",
   "pygments_lexer": "ipython3",
   "version": "3.13.7"
  }
 },
 "nbformat": 4,
 "nbformat_minor": 5
}
