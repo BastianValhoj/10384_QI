{
 "cells": [
  {
   "cell_type": "code",
   "execution_count": 31,
   "id": "ec68c3d1",
   "metadata": {},
   "outputs": [],
   "source": [
    "import qutip as qt\n",
    "import numpy as np\n",
    "from IPython.display import display, Math"
   ]
  },
  {
   "cell_type": "code",
   "execution_count": null,
   "id": "4387a461",
   "metadata": {},
   "outputs": [],
   "source": [
    "def format_complex(number, digits=3):\n",
    "    out = \"\"\n",
    "    real_part = np.real(number)\n",
    "    imag_part = np.imag(number)\n",
    "    imag_sign = np.sign(imag_part)\n",
    "    \n",
    "    if real_part != 0:\n",
    "        out += f\"{real_part:.{digits}f}\"\n",
    "    else:\n",
    "        pass\n",
    "    \n",
    "    if imag_part != 0: # if has imaginary part\n",
    "        if (real_part == 0): # and no real part\n",
    "            if (imag_sign == -1): # use -i*number\n",
    "                out += f\"-i{np.abs(imag_part):.{digits}f}\"\n",
    "            else: # use +i*number\n",
    "                out += f\"i{imag_part:.{digits}f}\"\n",
    "        \n",
    "        else: # and a real part\n",
    "            if imag_sign == -1: # use -i*number\n",
    "                out += f\"- i{np.abs(imag_part):.{digits}f}\"\n",
    "            else: # use +i*number\n",
    "                out += f\"+ i{imag_part:.{digits}f}\"      \n",
    "    else: # no imaginary part\n",
    "        pass\n",
    "    return out\n",
    "\n",
    "def _add_parenthesis(number):\n",
    "    real_part = number.real\n",
    "    imag_part = number.imag\n",
    "    if (real_part != 0) and (imag_part != 0): # if both real and imaginary part are non-zero\n",
    "        print(f\"added parenthesis to number : {number}\")\n",
    "        return f\"({format_complex(number)})\", True\n",
    "    \n",
    "    elif (real_part == 0) and (imag_part == 0): # if both real and imaginary part are zero\n",
    "        return None, None\n",
    "    \n",
    "    else: # if only one of them are zero\n",
    "        return format_complex(number), False\n",
    "\n",
    "def prettyprint(string, state):\n",
    "    if isinstance(state, qt.Qobj):\n",
    "        state = state.full().ravel()\n",
    "    elif isinstance(state, np.ndarray):\n",
    "        state = state.ravel()\n",
    "    elif isinstance(state, (int, float, complex)):\n",
    "        return display(Math(string + format_complex(number=state)))\n",
    "    else:\n",
    "        raise ValueError(f\"Argument 'state' has to be of type  'qutip.Qobj'  or  'numpy.ndarray'  or a number, but was {type(state)}\")\n",
    "    zero, one = state\n",
    "    ket0 = r\"\\ket{0}\"\n",
    "    ket1 = r\"\\ket{1}\"\n",
    "    total_string = string\n",
    "    zero_string, _ = _add_parenthesis(zero)\n",
    "    one_string, one_par = _add_parenthesis(one)        \n",
    "    \n",
    "    if (not one_string is None) and (not zero_string is None):\n",
    "        total_string += zero_string + ket0\n",
    "        if (one_par is True) or (\n",
    "            (one_par is False) and (not one_string[0] in [\"+\", \"-\"])\n",
    "            ): # has parenthesis OR no parenthesis and but no sign\n",
    "            total_string += \"+\" + one_string + ket1\n",
    "        elif one_par is None: # No number\n",
    "            pass\n",
    "        else: # no parenthesis, and \n",
    "            total_string += one_string + ket1\n",
    "            \n",
    "    else: \n",
    "        if not zero_string is None:\n",
    "            total_string += zero_string + ket0\n",
    "        if not one_string is None:\n",
    "            total_string += one_string +  ket1\n",
    "    \n",
    "    display(Math(total_string))"
   ]
  },
  {
   "cell_type": "markdown",
   "id": "6ba0567d",
   "metadata": {},
   "source": [
    "# (1) Qubit states and overlap"
   ]
  },
  {
   "cell_type": "markdown",
   "id": "d608c40a",
   "metadata": {},
   "source": [
    "Find the overlap $\\braket{\\psi\\vert\\phi}$ of the two qubit states \n",
    "$$\n",
    "\\begin{align}\n",
    "\\ket{\\psi} &= \\sqrt{\\frac{1}{3}}\\ket{0} + i\\sqrt{\\frac{2}{3}}\\ket{1} \\\\\n",
    "\\ket{\\phi} &= \\sqrt{\\frac{1}{3}}\\ket{0} + \\sqrt{\\frac23}\\ket{1} \n",
    "\\end{align}\n",
    "$$"
   ]
  },
  {
   "cell_type": "code",
   "execution_count": null,
   "id": "13b97021",
   "metadata": {},
   "outputs": [
    {
     "data": {
      "text/latex": [
       "$\\displaystyle \\ket\\psi =0.577\\ket{0}-i0.816\\ket{1}$"
      ],
      "text/plain": [
       "<IPython.core.display.Math object>"
      ]
     },
     "metadata": {},
     "output_type": "display_data"
    },
    {
     "data": {
      "text/latex": [
       "$\\displaystyle \\ket\\phi =0.577\\ket{0}+0.816\\ket{1}$"
      ],
      "text/plain": [
       "<IPython.core.display.Math object>"
      ]
     },
     "metadata": {},
     "output_type": "display_data"
    },
    {
     "data": {
      "text/latex": [
       "$\\displaystyle \\braket{\\psi|\\phi} =0.333+ i0.667$"
      ],
      "text/plain": [
       "<IPython.core.display.Math object>"
      ]
     },
     "metadata": {},
     "output_type": "display_data"
    }
   ],
   "source": [
    "zero = qt.basis(2, 0)\n",
    "one = qt.basis(2, 1)\n",
    "psi = np.sqrt(1/3)*zero - 1j*np.sqrt(2/3)*one\n",
    "phi = np.sqrt(1/3)*zero + np.sqrt(2/3)*one\n",
    "\n",
    "res = psi.dag() * phi\n",
    "prettyprint(r\"\\ket\\psi =\", psi)\n",
    "prettyprint(r\"\\ket\\phi =\", phi)\n",
    "prettyprint(r\"\\braket{\\psi|\\phi} =\", res)\n"
   ]
  },
  {
   "cell_type": "code",
   "execution_count": null,
   "id": "609dc96f",
   "metadata": {},
   "outputs": [
    {
     "data": {
      "text/latex": [
       "$\\displaystyle \\ket\\psi =- i6.500\\ket{0}- i1.000\\ket{1}$"
      ],
      "text/plain": [
       "<IPython.core.display.Math object>"
      ]
     },
     "metadata": {},
     "output_type": "display_data"
    }
   ],
   "source": []
  }
 ],
 "metadata": {
  "kernelspec": {
   "display_name": "qi",
   "language": "python",
   "name": "python3"
  },
  "language_info": {
   "codemirror_mode": {
    "name": "ipython",
    "version": 3
   },
   "file_extension": ".py",
   "mimetype": "text/x-python",
   "name": "python",
   "nbconvert_exporter": "python",
   "pygments_lexer": "ipython3",
   "version": "3.13.7"
  }
 },
 "nbformat": 4,
 "nbformat_minor": 5
}
