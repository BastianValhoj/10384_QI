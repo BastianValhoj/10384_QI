{
 "cells": [
  {
   "cell_type": "code",
   "execution_count": 1,
   "id": "ec68c3d1",
   "metadata": {},
   "outputs": [
    {
     "ename": "ModuleNotFoundError",
     "evalue": "No module named 'utils'",
     "output_type": "error",
     "traceback": [
      "\u001b[31m---------------------------------------------------------------------------\u001b[39m",
      "\u001b[31mModuleNotFoundError\u001b[39m                       Traceback (most recent call last)",
      "\u001b[36mCell\u001b[39m\u001b[36m \u001b[39m\u001b[32mIn[1]\u001b[39m\u001b[32m, line 7\u001b[39m\n\u001b[32m      4\u001b[39m \u001b[38;5;28;01mimport\u001b[39;00m\u001b[38;5;250m \u001b[39m\u001b[34;01mmatplotlib\u001b[39;00m\u001b[34;01m.\u001b[39;00m\u001b[34;01mpyplot\u001b[39;00m\u001b[38;5;250m \u001b[39m\u001b[38;5;28;01mas\u001b[39;00m\u001b[38;5;250m \u001b[39m\u001b[34;01mplt\u001b[39;00m\n\u001b[32m      5\u001b[39m \u001b[38;5;28;01mimport\u001b[39;00m\u001b[38;5;250m \u001b[39m\u001b[34;01mplotly\u001b[39;00m\u001b[34;01m.\u001b[39;00m\u001b[34;01mgraph_objects\u001b[39;00m\u001b[38;5;250m \u001b[39m\u001b[38;5;28;01mas\u001b[39;00m\u001b[38;5;250m \u001b[39m\u001b[34;01mgo\u001b[39;00m\n\u001b[32m----> \u001b[39m\u001b[32m7\u001b[39m \u001b[38;5;28;01mfrom\u001b[39;00m\u001b[38;5;250m \u001b[39m\u001b[34;01mutils\u001b[39;00m\u001b[38;5;250m \u001b[39m\u001b[38;5;28;01mimport\u001b[39;00m pprint, plot_bloch\n\u001b[32m      8\u001b[39m \u001b[38;5;28;01mfrom\u001b[39;00m\u001b[38;5;250m \u001b[39m\u001b[34;01mqutip\u001b[39;00m\u001b[38;5;250m \u001b[39m\u001b[38;5;28;01mimport\u001b[39;00m Bloch\n",
      "\u001b[31mModuleNotFoundError\u001b[39m: No module named 'utils'"
     ]
    }
   ],
   "source": [
    "import qutip as qt\n",
    "import numpy as np\n",
    "from IPython.display import display, Math\n",
    "import matplotlib.pyplot as plt\n",
    "import plotly.graph_objects as go\n",
    "\n",
    "from utils import pprint, plot_bloch\n",
    "from qutip import Bloch\n"
   ]
  },
  {
   "cell_type": "markdown",
   "id": "bedd7beb",
   "metadata": {},
   "source": [
    "## Formatting for printing"
   ]
  },
  {
   "cell_type": "code",
   "execution_count": 2,
   "id": "4387a461",
   "metadata": {},
   "outputs": [],
   "source": [
    "def format_complex(number, digits=3):\n",
    "    \"\"\"Format a complex number into LaTeX style string with i instead of j.\"\"\"\n",
    "    re, im = np.real(number), np.imag(number)\n",
    "    out = \"\"\n",
    "    \n",
    "    # if np.isclose(number, 0):\n",
    "    #     return \"0\"\n",
    "    \n",
    "    if not np.isclose(re, 0): # real part\n",
    "        out += f\"{re:.{digits}f}\"\n",
    "    if not np.isclose(im, 0): # imag part\n",
    "        sign = \"-\" if im < 0 else (\"+\" if re > 0 else \"\") # adds sign if non-zero\n",
    "        out += f\"{sign} i{abs(im):.{digits}f}\"\n",
    "        \n",
    "    return out\n",
    "\n",
    "\n",
    "def _add_parenthesis(number, digits=3):\n",
    "    \"\"\"Return formatted complex number, wrapped in parentheses if both parts nonzero.\"\"\"\n",
    "    re, im = number.real, number.imag\n",
    "\n",
    "    if np.isclose(re, 0) and np.isclose(im, 0):\n",
    "        return None, None\n",
    "\n",
    "    formatted = format_complex(number, digits)\n",
    "\n",
    "    if not np.isclose(re, 0) and not np.isclose(im, 0):\n",
    "        return f\"({formatted})\", True\n",
    "\n",
    "    return formatted, False\n",
    "\n",
    "def prettyprint(label, state, digits=3):\n",
    "    \"\"\"Pretty-print a state as LaTeX.\"\"\"\n",
    "    if isinstance(state, qt.Qobj):\n",
    "        state = state.full().ravel()\n",
    "    elif isinstance(state, np.ndarray):\n",
    "        state = state.ravel()\n",
    "    elif isinstance(state, (int, float, complex)):\n",
    "        return display(Math(label + format_complex(state, digits)))\n",
    "    else:\n",
    "        raise TypeError(\n",
    "            f\"state must be qutip.Qobj, numpy.ndarray, int, float, or complex, not {type(state)}\"\n",
    "        )\n",
    "\n",
    "    if len(state) != 2:\n",
    "        raise ValueError(\"prettyprint currently only supports 2D states.\")\n",
    "\n",
    "    zero, one = state\n",
    "    ket0, ket1 = r\"\\ket{0}\", r\"\\ket{1}\"\n",
    "    total = label\n",
    "\n",
    "    zero_str, zero_par = _add_parenthesis(zero, digits)\n",
    "    one_str, one_par = _add_parenthesis(one, digits)\n",
    "    print(f\"{one_str = }\")\n",
    "    if zero_str is not None:\n",
    "        total += zero_str + ket0\n",
    "\n",
    "    if one_str is not None:\n",
    "        # If parentheses OR no explicit sign\n",
    "        if one_par or (not one_str[0] in \"+-\"):\n",
    "            total += \"+\" + one_str + ket1\n",
    "        else:\n",
    "            total += one_str + ket1\n",
    "\n",
    "    display(Math(total))\n",
    "    "
   ]
  },
  {
   "cell_type": "markdown",
   "id": "084f0d1d",
   "metadata": {},
   "source": [
    "## Plotting Bloch sphere using `plotly`"
   ]
  },
  {
   "cell_type": "code",
   "execution_count": null,
   "id": "f56bfce1",
   "metadata": {},
   "outputs": [],
   "source": [
    "def plot_bloch_plotly(states, labels=None, colors=None, show_axes=True):\n",
    "    \"\"\"\n",
    "    Plot one or more qubit states on an interactive Plotly Bloch sphere.\n",
    "    \n",
    "    Parameters:\n",
    "    - states : list of qutip.Qobj or single qutip.Qobj\n",
    "        The quantum states to plot (kets).\n",
    "    - labels : list of str, optional\n",
    "        Labels for the states for legend and hover text.\n",
    "    - colors : list of str, optional\n",
    "        Colors for each state.\n",
    "    - show_axes : bool, optional (default True)\n",
    "        Show X, Y, and Z axis\n",
    "    \"\"\"\n",
    "    # Ensure list\n",
    "    if not isinstance(states, list):\n",
    "        states = [states]\n",
    "    n = len(states)\n",
    "\n",
    "    if labels is None:\n",
    "        labels = [f\"ψ{i+1}\" for i in range(n)]\n",
    "    if colors is None:\n",
    "        # Use Plotly qualitative palette\n",
    "        colors = ['red', 'blue', 'green', 'orange', 'purple', 'cyan'][:n]\n",
    "\n",
    "    # Convert states to Bloch vectors\n",
    "    def bloch_vector(state):\n",
    "        rho = qt.ket2dm(state)\n",
    "        x = np.real(qt.expect(qt.sigmax(), rho))\n",
    "        y = np.real(qt.expect(qt.sigmay(), rho))\n",
    "        z = np.real(qt.expect(qt.sigmaz(), rho))\n",
    "        return np.array([x, y, z])\n",
    "\n",
    "    vectors = [bloch_vector(s) for s in states]\n",
    "\n",
    "    # Sphere surface\n",
    "    u = np.linspace(0, 2*np.pi, 50)\n",
    "    v = np.linspace(0, np.pi, 25)\n",
    "    xs = np.outer(np.cos(u), np.sin(v))\n",
    "    ys = np.outer(np.sin(u), np.sin(v))\n",
    "    zs = np.outer(np.ones_like(u), np.cos(v))\n",
    "\n",
    "    sphere = go.Surface(\n",
    "        x=xs, y=ys, z=zs,\n",
    "        opacity=0.2,\n",
    "        showscale=False,\n",
    "        colorscale=\"Blues\",\n",
    "        name=\"Bloch Sphere\"\n",
    "    )\n",
    "\n",
    "    # Add state vectors\n",
    "    vec_traces = []\n",
    "    for vec, label, color in zip(vectors, labels, colors):\n",
    "        vec_traces.append(\n",
    "            go.Scatter3d(\n",
    "                x=[0, vec[0]],\n",
    "                y=[0, vec[1]],\n",
    "                z=[0, vec[2]],\n",
    "                mode=\"lines+markers+text\",\n",
    "                marker=dict(size=5, color=color),\n",
    "                line=dict(width=6, color=color),\n",
    "                text=[None, label],\n",
    "                textposition=\"top center\",\n",
    "                name=label\n",
    "            )\n",
    "        )\n",
    "\n",
    "    # Add |0> and |1> basis markers\n",
    "    basis_markers = go.Scatter3d(\n",
    "        x=[0, 0],\n",
    "        y=[0, 0],\n",
    "        z=[1, -1],\n",
    "        mode=\"markers+text\",\n",
    "        marker=dict(size=6, color=\"black\"),\n",
    "        text=[\"|0⟩\", \"|1⟩\"],\n",
    "        textposition=\"top center\",\n",
    "        name=\"Basis states\"\n",
    "    )\n",
    "    axis_traces = []\n",
    "    if show_axes:\n",
    "        axis_traces = [\n",
    "            # X-axis\n",
    "            go.Scatter3d(x=[0,1], y=[0,0], z=[0,0],\n",
    "                         mode='lines+text',\n",
    "                         line=dict(color='gray', width=3),\n",
    "                         text=[\"\", \"X\"], textposition=\"top center\",\n",
    "                         name=\"X axis\"),\n",
    "            # Y-axis\n",
    "            go.Scatter3d(x=[0,0], y=[0,1], z=[0,0],\n",
    "                         mode='lines+text',\n",
    "                         line=dict(color='gray', width=3),\n",
    "                         text=[\"\", \"Y\"], textposition=\"top center\",\n",
    "                         name=\"Y axis\"),\n",
    "            # Z-axis\n",
    "            go.Scatter3d(x=[0,0], y=[0,0], z=[0,1],\n",
    "                         mode='lines+text',\n",
    "                         line=dict(color='gray', width=3),\n",
    "                         text=[\"\", \"\"], textposition=\"top center\",\n",
    "                         name=\"Z axis\"),\n",
    "        ]\n",
    "\n",
    "    # Layout\n",
    "    layout = go.Layout(\n",
    "        scene=dict(\n",
    "            xaxis=dict(range=[-1, 1]),\n",
    "            yaxis=dict(range=[-1, 1]),\n",
    "            zaxis=dict(range=[-1, 1]),\n",
    "            aspectmode=\"cube\"\n",
    "        ),\n",
    "        legend=dict(x=0.8, y=0.9)\n",
    "    )\n",
    "\n",
    "    fig = go.Figure(data=[sphere] + vec_traces + [basis_markers] + axis_traces, layout=layout)\n",
    "    fig.show()\n"
   ]
  },
  {
   "cell_type": "markdown",
   "id": "6ba0567d",
   "metadata": {},
   "source": [
    "# (1) Qubit states and overlap"
   ]
  },
  {
   "cell_type": "markdown",
   "id": "d608c40a",
   "metadata": {},
   "source": [
    "Find the overlap $\\braket{\\psi\\vert\\phi}$ of the two qubit states \n",
    "$$\n",
    "\\begin{align}\n",
    "\\ket{\\psi} &= \\sqrt{\\frac{1}{3}}\\ket{0} + i\\sqrt{\\frac{2}{3}}\\ket{1} \\\\\n",
    "\\ket{\\phi} &= \\sqrt{\\frac{1}{3}}\\ket{0} + \\sqrt{\\frac23}\\ket{1} \n",
    "\\end{align}\n",
    "$$"
   ]
  },
  {
   "cell_type": "code",
   "execution_count": 24,
   "id": "13b97021",
   "metadata": {},
   "outputs": [
    {
     "name": "stdout",
     "output_type": "stream",
     "text": [
      "one_str = ' i0.816'\n"
     ]
    },
    {
     "data": {
      "text/latex": [
       "$\\displaystyle \\ket\\psi =0.577\\ket{0}+ i0.816\\ket{1}$"
      ],
      "text/plain": [
       "<IPython.core.display.Math object>"
      ]
     },
     "metadata": {},
     "output_type": "display_data"
    },
    {
     "name": "stdout",
     "output_type": "stream",
     "text": [
      "one_str = '0.816'\n"
     ]
    },
    {
     "data": {
      "text/latex": [
       "$\\displaystyle \\ket\\phi =0.577\\ket{0}+0.816\\ket{1}$"
      ],
      "text/plain": [
       "<IPython.core.display.Math object>"
      ]
     },
     "metadata": {},
     "output_type": "display_data"
    },
    {
     "data": {
      "text/latex": [
       "$\\displaystyle \\braket{\\psi|\\phi} =0.333- i0.667$"
      ],
      "text/plain": [
       "<IPython.core.display.Math object>"
      ]
     },
     "metadata": {},
     "output_type": "display_data"
    }
   ],
   "source": [
    "zero = qt.basis(2, 0)\n",
    "one = qt.basis(2, 1)\n",
    "# psi = 1j*np.sqrt(2/3)*one\n",
    "psi = np.sqrt(1/3)*zero + 1j*np.sqrt(2/3)*one\n",
    "phi = np.sqrt(1/3)*zero + np.sqrt(2/3)*one\n",
    "\n",
    "res = psi.dag() * phi\n",
    "prettyprint(r\"\\ket\\psi =\", psi)\n",
    "prettyprint(r\"\\ket\\phi =\", phi)\n",
    "prettyprint(r\"\\braket{\\psi|\\phi} =\", res)\n"
   ]
  },
  {
   "cell_type": "code",
   "execution_count": 25,
   "id": "609dc96f",
   "metadata": {},
   "outputs": [
    {
     "data": {
      "application/vnd.plotly.v1+json": {
       "config": {
        "plotlyServerURL": "https://plot.ly"
       },
       "data": [
        {
         "colorscale": [
          [
           0,
           "rgb(247,251,255)"
          ],
          [
           0.125,
           "rgb(222,235,247)"
          ],
          [
           0.25,
           "rgb(198,219,239)"
          ],
          [
           0.375,
           "rgb(158,202,225)"
          ],
          [
           0.5,
           "rgb(107,174,214)"
          ],
          [
           0.625,
           "rgb(66,146,198)"
          ],
          [
           0.75,
           "rgb(33,113,181)"
          ],
          [
           0.875,
           "rgb(8,81,156)"
          ],
          [
           1,
           "rgb(8,48,107)"
          ]
         ],
         "name": "Bloch Sphere",
         "opacity": 0.2,
         "showscale": false,
         "type": "surface",
         "x": {
          "bdata": "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",
          "dtype": "f8",
          "shape": "50, 25"
         },
         "y": {
          "bdata": "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",
          "dtype": "f8",
          "shape": "50, 25"
         },
         "z": {
          "bdata": "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",
          "dtype": "f8",
          "shape": "50, 25"
         }
        },
        {
         "line": {
          "color": "red",
          "width": 6
         },
         "marker": {
          "color": "red",
          "size": 5
         },
         "mode": "lines+markers+text",
         "name": "ψ",
         "text": [
          null,
          "ψ"
         ],
         "textposition": "top center",
         "type": "scatter3d",
         "x": [
          0,
          0
         ],
         "y": [
          0,
          0.9428090415820634
         ],
         "z": [
          0,
          -0.3333333333333333
         ]
        },
        {
         "line": {
          "color": "blue",
          "width": 6
         },
         "marker": {
          "color": "blue",
          "size": 5
         },
         "mode": "lines+markers+text",
         "name": "φ",
         "text": [
          null,
          "φ"
         ],
         "textposition": "top center",
         "type": "scatter3d",
         "x": [
          0,
          0.9428090415820634
         ],
         "y": [
          0,
          0
         ],
         "z": [
          0,
          -0.3333333333333333
         ]
        },
        {
         "marker": {
          "color": "black",
          "size": 6
         },
         "mode": "markers+text",
         "name": "Basis states",
         "text": [
          "|0⟩",
          "|1⟩"
         ],
         "textposition": "top center",
         "type": "scatter3d",
         "x": [
          0,
          0
         ],
         "y": [
          0,
          0
         ],
         "z": [
          1,
          -1
         ]
        },
        {
         "line": {
          "color": "gray",
          "width": 3
         },
         "mode": "lines+text",
         "name": "X axis",
         "text": [
          "",
          "X"
         ],
         "textposition": "top center",
         "type": "scatter3d",
         "x": [
          0,
          1
         ],
         "y": [
          0,
          0
         ],
         "z": [
          0,
          0
         ]
        },
        {
         "line": {
          "color": "gray",
          "width": 3
         },
         "mode": "lines+text",
         "name": "Y axis",
         "text": [
          "",
          "Y"
         ],
         "textposition": "top center",
         "type": "scatter3d",
         "x": [
          0,
          0
         ],
         "y": [
          0,
          1
         ],
         "z": [
          0,
          0
         ]
        },
        {
         "line": {
          "color": "gray",
          "width": 3
         },
         "mode": "lines+text",
         "name": "Z axis",
         "text": [
          "",
          ""
         ],
         "textposition": "top center",
         "type": "scatter3d",
         "x": [
          0,
          0
         ],
         "y": [
          0,
          0
         ],
         "z": [
          0,
          1
         ]
        }
       ],
       "layout": {
        "legend": {
         "x": 0.8,
         "y": 0.9
        },
        "scene": {
         "aspectmode": "cube",
         "xaxis": {
          "range": [
           -1,
           1
          ]
         },
         "yaxis": {
          "range": [
           -1,
           1
          ]
         },
         "zaxis": {
          "range": [
           -1,
           1
          ]
         }
        },
        "template": {
         "data": {
          "bar": [
           {
            "error_x": {
             "color": "#2a3f5f"
            },
            "error_y": {
             "color": "#2a3f5f"
            },
            "marker": {
             "line": {
              "color": "#E5ECF6",
              "width": 0.5
             },
             "pattern": {
              "fillmode": "overlay",
              "size": 10,
              "solidity": 0.2
             }
            },
            "type": "bar"
           }
          ],
          "barpolar": [
           {
            "marker": {
             "line": {
              "color": "#E5ECF6",
              "width": 0.5
             },
             "pattern": {
              "fillmode": "overlay",
              "size": 10,
              "solidity": 0.2
             }
            },
            "type": "barpolar"
           }
          ],
          "carpet": [
           {
            "aaxis": {
             "endlinecolor": "#2a3f5f",
             "gridcolor": "white",
             "linecolor": "white",
             "minorgridcolor": "white",
             "startlinecolor": "#2a3f5f"
            },
            "baxis": {
             "endlinecolor": "#2a3f5f",
             "gridcolor": "white",
             "linecolor": "white",
             "minorgridcolor": "white",
             "startlinecolor": "#2a3f5f"
            },
            "type": "carpet"
           }
          ],
          "choropleth": [
           {
            "colorbar": {
             "outlinewidth": 0,
             "ticks": ""
            },
            "type": "choropleth"
           }
          ],
          "contour": [
           {
            "colorbar": {
             "outlinewidth": 0,
             "ticks": ""
            },
            "colorscale": [
             [
              0,
              "#0d0887"
             ],
             [
              0.1111111111111111,
              "#46039f"
             ],
             [
              0.2222222222222222,
              "#7201a8"
             ],
             [
              0.3333333333333333,
              "#9c179e"
             ],
             [
              0.4444444444444444,
              "#bd3786"
             ],
             [
              0.5555555555555556,
              "#d8576b"
             ],
             [
              0.6666666666666666,
              "#ed7953"
             ],
             [
              0.7777777777777778,
              "#fb9f3a"
             ],
             [
              0.8888888888888888,
              "#fdca26"
             ],
             [
              1,
              "#f0f921"
             ]
            ],
            "type": "contour"
           }
          ],
          "contourcarpet": [
           {
            "colorbar": {
             "outlinewidth": 0,
             "ticks": ""
            },
            "type": "contourcarpet"
           }
          ],
          "heatmap": [
           {
            "colorbar": {
             "outlinewidth": 0,
             "ticks": ""
            },
            "colorscale": [
             [
              0,
              "#0d0887"
             ],
             [
              0.1111111111111111,
              "#46039f"
             ],
             [
              0.2222222222222222,
              "#7201a8"
             ],
             [
              0.3333333333333333,
              "#9c179e"
             ],
             [
              0.4444444444444444,
              "#bd3786"
             ],
             [
              0.5555555555555556,
              "#d8576b"
             ],
             [
              0.6666666666666666,
              "#ed7953"
             ],
             [
              0.7777777777777778,
              "#fb9f3a"
             ],
             [
              0.8888888888888888,
              "#fdca26"
             ],
             [
              1,
              "#f0f921"
             ]
            ],
            "type": "heatmap"
           }
          ],
          "histogram": [
           {
            "marker": {
             "pattern": {
              "fillmode": "overlay",
              "size": 10,
              "solidity": 0.2
             }
            },
            "type": "histogram"
           }
          ],
          "histogram2d": [
           {
            "colorbar": {
             "outlinewidth": 0,
             "ticks": ""
            },
            "colorscale": [
             [
              0,
              "#0d0887"
             ],
             [
              0.1111111111111111,
              "#46039f"
             ],
             [
              0.2222222222222222,
              "#7201a8"
             ],
             [
              0.3333333333333333,
              "#9c179e"
             ],
             [
              0.4444444444444444,
              "#bd3786"
             ],
             [
              0.5555555555555556,
              "#d8576b"
             ],
             [
              0.6666666666666666,
              "#ed7953"
             ],
             [
              0.7777777777777778,
              "#fb9f3a"
             ],
             [
              0.8888888888888888,
              "#fdca26"
             ],
             [
              1,
              "#f0f921"
             ]
            ],
            "type": "histogram2d"
           }
          ],
          "histogram2dcontour": [
           {
            "colorbar": {
             "outlinewidth": 0,
             "ticks": ""
            },
            "colorscale": [
             [
              0,
              "#0d0887"
             ],
             [
              0.1111111111111111,
              "#46039f"
             ],
             [
              0.2222222222222222,
              "#7201a8"
             ],
             [
              0.3333333333333333,
              "#9c179e"
             ],
             [
              0.4444444444444444,
              "#bd3786"
             ],
             [
              0.5555555555555556,
              "#d8576b"
             ],
             [
              0.6666666666666666,
              "#ed7953"
             ],
             [
              0.7777777777777778,
              "#fb9f3a"
             ],
             [
              0.8888888888888888,
              "#fdca26"
             ],
             [
              1,
              "#f0f921"
             ]
            ],
            "type": "histogram2dcontour"
           }
          ],
          "mesh3d": [
           {
            "colorbar": {
             "outlinewidth": 0,
             "ticks": ""
            },
            "type": "mesh3d"
           }
          ],
          "parcoords": [
           {
            "line": {
             "colorbar": {
              "outlinewidth": 0,
              "ticks": ""
             }
            },
            "type": "parcoords"
           }
          ],
          "pie": [
           {
            "automargin": true,
            "type": "pie"
           }
          ],
          "scatter": [
           {
            "fillpattern": {
             "fillmode": "overlay",
             "size": 10,
             "solidity": 0.2
            },
            "type": "scatter"
           }
          ],
          "scatter3d": [
           {
            "line": {
             "colorbar": {
              "outlinewidth": 0,
              "ticks": ""
             }
            },
            "marker": {
             "colorbar": {
              "outlinewidth": 0,
              "ticks": ""
             }
            },
            "type": "scatter3d"
           }
          ],
          "scattercarpet": [
           {
            "marker": {
             "colorbar": {
              "outlinewidth": 0,
              "ticks": ""
             }
            },
            "type": "scattercarpet"
           }
          ],
          "scattergeo": [
           {
            "marker": {
             "colorbar": {
              "outlinewidth": 0,
              "ticks": ""
             }
            },
            "type": "scattergeo"
           }
          ],
          "scattergl": [
           {
            "marker": {
             "colorbar": {
              "outlinewidth": 0,
              "ticks": ""
             }
            },
            "type": "scattergl"
           }
          ],
          "scattermap": [
           {
            "marker": {
             "colorbar": {
              "outlinewidth": 0,
              "ticks": ""
             }
            },
            "type": "scattermap"
           }
          ],
          "scattermapbox": [
           {
            "marker": {
             "colorbar": {
              "outlinewidth": 0,
              "ticks": ""
             }
            },
            "type": "scattermapbox"
           }
          ],
          "scatterpolar": [
           {
            "marker": {
             "colorbar": {
              "outlinewidth": 0,
              "ticks": ""
             }
            },
            "type": "scatterpolar"
           }
          ],
          "scatterpolargl": [
           {
            "marker": {
             "colorbar": {
              "outlinewidth": 0,
              "ticks": ""
             }
            },
            "type": "scatterpolargl"
           }
          ],
          "scatterternary": [
           {
            "marker": {
             "colorbar": {
              "outlinewidth": 0,
              "ticks": ""
             }
            },
            "type": "scatterternary"
           }
          ],
          "surface": [
           {
            "colorbar": {
             "outlinewidth": 0,
             "ticks": ""
            },
            "colorscale": [
             [
              0,
              "#0d0887"
             ],
             [
              0.1111111111111111,
              "#46039f"
             ],
             [
              0.2222222222222222,
              "#7201a8"
             ],
             [
              0.3333333333333333,
              "#9c179e"
             ],
             [
              0.4444444444444444,
              "#bd3786"
             ],
             [
              0.5555555555555556,
              "#d8576b"
             ],
             [
              0.6666666666666666,
              "#ed7953"
             ],
             [
              0.7777777777777778,
              "#fb9f3a"
             ],
             [
              0.8888888888888888,
              "#fdca26"
             ],
             [
              1,
              "#f0f921"
             ]
            ],
            "type": "surface"
           }
          ],
          "table": [
           {
            "cells": {
             "fill": {
              "color": "#EBF0F8"
             },
             "line": {
              "color": "white"
             }
            },
            "header": {
             "fill": {
              "color": "#C8D4E3"
             },
             "line": {
              "color": "white"
             }
            },
            "type": "table"
           }
          ]
         },
         "layout": {
          "annotationdefaults": {
           "arrowcolor": "#2a3f5f",
           "arrowhead": 0,
           "arrowwidth": 1
          },
          "autotypenumbers": "strict",
          "coloraxis": {
           "colorbar": {
            "outlinewidth": 0,
            "ticks": ""
           }
          },
          "colorscale": {
           "diverging": [
            [
             0,
             "#8e0152"
            ],
            [
             0.1,
             "#c51b7d"
            ],
            [
             0.2,
             "#de77ae"
            ],
            [
             0.3,
             "#f1b6da"
            ],
            [
             0.4,
             "#fde0ef"
            ],
            [
             0.5,
             "#f7f7f7"
            ],
            [
             0.6,
             "#e6f5d0"
            ],
            [
             0.7,
             "#b8e186"
            ],
            [
             0.8,
             "#7fbc41"
            ],
            [
             0.9,
             "#4d9221"
            ],
            [
             1,
             "#276419"
            ]
           ],
           "sequential": [
            [
             0,
             "#0d0887"
            ],
            [
             0.1111111111111111,
             "#46039f"
            ],
            [
             0.2222222222222222,
             "#7201a8"
            ],
            [
             0.3333333333333333,
             "#9c179e"
            ],
            [
             0.4444444444444444,
             "#bd3786"
            ],
            [
             0.5555555555555556,
             "#d8576b"
            ],
            [
             0.6666666666666666,
             "#ed7953"
            ],
            [
             0.7777777777777778,
             "#fb9f3a"
            ],
            [
             0.8888888888888888,
             "#fdca26"
            ],
            [
             1,
             "#f0f921"
            ]
           ],
           "sequentialminus": [
            [
             0,
             "#0d0887"
            ],
            [
             0.1111111111111111,
             "#46039f"
            ],
            [
             0.2222222222222222,
             "#7201a8"
            ],
            [
             0.3333333333333333,
             "#9c179e"
            ],
            [
             0.4444444444444444,
             "#bd3786"
            ],
            [
             0.5555555555555556,
             "#d8576b"
            ],
            [
             0.6666666666666666,
             "#ed7953"
            ],
            [
             0.7777777777777778,
             "#fb9f3a"
            ],
            [
             0.8888888888888888,
             "#fdca26"
            ],
            [
             1,
             "#f0f921"
            ]
           ]
          },
          "colorway": [
           "#636efa",
           "#EF553B",
           "#00cc96",
           "#ab63fa",
           "#FFA15A",
           "#19d3f3",
           "#FF6692",
           "#B6E880",
           "#FF97FF",
           "#FECB52"
          ],
          "font": {
           "color": "#2a3f5f"
          },
          "geo": {
           "bgcolor": "white",
           "lakecolor": "white",
           "landcolor": "#E5ECF6",
           "showlakes": true,
           "showland": true,
           "subunitcolor": "white"
          },
          "hoverlabel": {
           "align": "left"
          },
          "hovermode": "closest",
          "mapbox": {
           "style": "light"
          },
          "paper_bgcolor": "white",
          "plot_bgcolor": "#E5ECF6",
          "polar": {
           "angularaxis": {
            "gridcolor": "white",
            "linecolor": "white",
            "ticks": ""
           },
           "bgcolor": "#E5ECF6",
           "radialaxis": {
            "gridcolor": "white",
            "linecolor": "white",
            "ticks": ""
           }
          },
          "scene": {
           "xaxis": {
            "backgroundcolor": "#E5ECF6",
            "gridcolor": "white",
            "gridwidth": 2,
            "linecolor": "white",
            "showbackground": true,
            "ticks": "",
            "zerolinecolor": "white"
           },
           "yaxis": {
            "backgroundcolor": "#E5ECF6",
            "gridcolor": "white",
            "gridwidth": 2,
            "linecolor": "white",
            "showbackground": true,
            "ticks": "",
            "zerolinecolor": "white"
           },
           "zaxis": {
            "backgroundcolor": "#E5ECF6",
            "gridcolor": "white",
            "gridwidth": 2,
            "linecolor": "white",
            "showbackground": true,
            "ticks": "",
            "zerolinecolor": "white"
           }
          },
          "shapedefaults": {
           "line": {
            "color": "#2a3f5f"
           }
          },
          "ternary": {
           "aaxis": {
            "gridcolor": "white",
            "linecolor": "white",
            "ticks": ""
           },
           "baxis": {
            "gridcolor": "white",
            "linecolor": "white",
            "ticks": ""
           },
           "bgcolor": "#E5ECF6",
           "caxis": {
            "gridcolor": "white",
            "linecolor": "white",
            "ticks": ""
           }
          },
          "title": {
           "x": 0.05
          },
          "xaxis": {
           "automargin": true,
           "gridcolor": "white",
           "linecolor": "white",
           "ticks": "",
           "title": {
            "standoff": 15
           },
           "zerolinecolor": "white",
           "zerolinewidth": 2
          },
          "yaxis": {
           "automargin": true,
           "gridcolor": "white",
           "linecolor": "white",
           "ticks": "",
           "title": {
            "standoff": 15
           },
           "zerolinecolor": "white",
           "zerolinewidth": 2
          }
         }
        }
       }
      }
     },
     "metadata": {},
     "output_type": "display_data"
    }
   ],
   "source": [
    "plot_bloch_plotly([psi, phi], labels=[\"ψ\", \"φ\"], colors=[\"red\", \"blue\"])"
   ]
  },
  {
   "cell_type": "code",
   "execution_count": 13,
   "id": "3ac2609c",
   "metadata": {},
   "outputs": [
    {
     "data": {
      "image/png": "[encoded data removed]",
      "text/plain": [
       "<Figure size 640x480 with 1 Axes>"
      ]
     },
     "metadata": {},
     "output_type": "display_data"
    }
   ],
   "source": [
    "fig = plt.figure()\n",
    "ax = fig.add_subplot(111, projection='3d')\n",
    "b = Bloch(fig=fig, axes=ax)\n",
    "b.add_states(psi)\n",
    "b.add_states(phi)\n",
    "b.render()"
   ]
  },
  {
   "cell_type": "code",
   "execution_count": null,
   "id": "e6f96bd3",
   "metadata": {},
   "outputs": [],
   "source": []
  }
 ],
 "metadata": {
  "kernelspec": {
   "display_name": "qi",
   "language": "python",
   "name": "python3"
  },
  "language_info": {
   "codemirror_mode": {
    "name": "ipython",
    "version": 3
   },
   "file_extension": ".py",
   "mimetype": "text/x-python",
   "name": "python",
   "nbconvert_exporter": "python",
   "pygments_lexer": "ipython3",
   "version": "3.13.7"
  }
 },
 "nbformat": 4,
 "nbformat_minor": 5
}
