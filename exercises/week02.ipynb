{
 "cells": [
  {
   "cell_type": "code",
   "execution_count": null,
   "id": "8df6f716",
   "metadata": {},
   "outputs": [],
   "source": [
    "import numpy as np\n",
    "import qutip as qt\n",
    "import sympy as sym"
   ]
  },
  {
   "cell_type": "markdown",
   "id": "1650f95f",
   "metadata": {},
   "source": [
    "# Puali operators"
   ]
  },
  {
   "cell_type": "code",
   "execution_count": 6,
   "id": "bcd2f654",
   "metadata": {},
   "outputs": [
    {
     "data": {
      "text/latex": [
       "Quantum object: dims=[[2], [2]], shape=(2, 2), type='oper', dtype=CSR, isherm=True$$\\left(\\begin{array}{cc}1 & 0\\\\0 & 1\\end{array}\\right)$$"
      ],
      "text/plain": [
       "Quantum object: dims=[[2], [2]], shape=(2, 2), type='oper', dtype=CSR, isherm=True\n",
       "Qobj data =\n",
       "[[1. 0.]\n",
       " [0. 1.]]"
      ]
     },
     "execution_count": 6,
     "metadata": {},
     "output_type": "execute_result"
    }
   ],
   "source": [
    "sigmax = qt.sigmax()\n",
    "sigmay = qt.sigmay()\n",
    "sigmaz= qt.sigmaz()\n",
    "sigmax**2"
   ]
  },
  {
   "cell_type": "code",
   "execution_count": 10,
   "id": "387a534e",
   "metadata": {},
   "outputs": [
    {
     "data": {
      "text/plain": [
       "0j"
      ]
     },
     "execution_count": 10,
     "metadata": {},
     "output_type": "execute_result"
    }
   ],
   "source": [
    "(sigmay*sigmax).tr()"
   ]
  },
  {
   "cell_type": "code",
   "execution_count": 9,
   "id": "997f42df",
   "metadata": {},
   "outputs": [
    {
     "data": {
      "text/plain": [
       "0j"
      ]
     },
     "execution_count": 9,
     "metadata": {},
     "output_type": "execute_result"
    }
   ],
   "source": [
    "(sigmaz*sigmax).tr()"
   ]
  },
  {
   "cell_type": "code",
   "execution_count": null,
   "id": "93bef641",
   "metadata": {},
   "outputs": [],
   "source": []
  }
 ],
 "metadata": {
  "kernelspec": {
   "display_name": "qi",
   "language": "python",
   "name": "python3"
  },
  "language_info": {
   "codemirror_mode": {
    "name": "ipython",
    "version": 3
   },
   "file_extension": ".py",
   "mimetype": "text/x-python",
   "name": "python",
   "nbconvert_exporter": "python",
   "pygments_lexer": "ipython3",
   "version": "3.13.7"
  }
 },
 "nbformat": 4,
 "nbformat_minor": 5
}
