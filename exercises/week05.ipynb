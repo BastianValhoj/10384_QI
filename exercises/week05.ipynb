{
 "cells": [
  {
   "cell_type": "code",
   "execution_count": 3,
   "id": "7a993fcf",
   "metadata": {},
   "outputs": [],
   "source": [
    "import qutip as qt\n",
    "import numpy as np\n",
    "from utils import __all__, pprint"
   ]
  },
  {
   "cell_type": "code",
   "execution_count": 2,
   "id": "96593e3c",
   "metadata": {},
   "outputs": [
    {
     "data": {
      "text/plain": [
       "['prettyprint',\n",
       " 'pprint',\n",
       " 'format_complex',\n",
       " 'plot_bloch_plotly',\n",
       " 'plot_bloch',\n",
       " '__version__']"
      ]
     },
     "execution_count": 2,
     "metadata": {},
     "output_type": "execute_result"
    }
   ],
   "source": [
    "__all__"
   ]
  },
  {
   "cell_type": "code",
   "execution_count": 275,
   "id": "f0f607f0",
   "metadata": {},
   "outputs": [
    {
     "data": {
      "text/plain": [
       "('(0.70710678118655+0j) |11> + (0.70710678118655+0j) |00>',\n",
       " '(-0.70710678118655+0j) |11> + (0.70710678118655+0j) |00>',\n",
       " '(0.70710678118655+0j) |10> + (0.70710678118655+0j) |01>',\n",
       " '(-0.70710678118655+0j) |10> + (0.70710678118655+0j) |01>')"
      ]
     },
     "execution_count": 275,
     "metadata": {},
     "output_type": "execute_result"
    }
   ],
   "source": [
    "I = qt.qeye(2)\n",
    "X = qt.sigmax()\n",
    "Y = qt.sigmay()\n",
    "Z = qt.sigmaz()\n",
    "H = (X+Z)/(np.sqrt(2)) # equivalent to (X+Z)/sqrt(2)\n",
    "\n",
    "one = qt.basis(2, 1)\n",
    "zero = qt.basis(2, 0)\n",
    "plus = (one + zero).unit()\n",
    "minus = (one - zero).unit()\n",
    "psi_p = (qt.tensor(zero, one) + qt.tensor(one, zero)).unit()\n",
    "psi_m = (qt.tensor(zero, one) - qt.tensor(one, zero)).unit()\n",
    "phi_p = (qt.tensor(zero, zero) + qt.tensor(one, one)).unit()\n",
    "phi_m = (qt.tensor(zero, zero) - qt.tensor(one, one)).unit()\n",
    "phi_p.basis_expansion(), phi_m.basis_expansion(), psi_p.basis_expansion(), psi_m.basis_expansion()"
   ]
  },
  {
   "cell_type": "code",
   "execution_count": 325,
   "id": "17f8d895",
   "metadata": {},
   "outputs": [
    {
     "name": "stdout",
     "output_type": "stream",
     "text": [
      "True\n",
      "True\n",
      "True\n"
     ]
    }
   ],
   "source": [
    "print(qt.tensor(X, I)*phi_p == psi_p)\n",
    "print(qt.tensor(Z, I)*phi_p == phi_m)\n",
    "print(qt.tensor(Z, I)*qt.tensor(X, I)*phi_p == psi_m)"
   ]
  },
  {
   "cell_type": "code",
   "execution_count": 277,
   "id": "f8983251",
   "metadata": {},
   "outputs": [
    {
     "data": {
      "text/latex": [
       "Quantum object: dims=[[2, 2], [1]], shape=(4, 1), type='ket', dtype=Dense$$\\left(\\begin{array}{cc}0.707\\\\0\\\\0\\\\0.707\\end{array}\\right)$$"
      ],
      "text/plain": [
       "Quantum object: dims=[[2, 2], [1]], shape=(4, 1), type='ket', dtype=Dense\n",
       "Qobj data =\n",
       "[[0.70710678]\n",
       " [0.        ]\n",
       " [0.        ]\n",
       " [0.70710678]]"
      ]
     },
     "metadata": {},
     "output_type": "display_data"
    },
    {
     "name": "stdout",
     "output_type": "stream",
     "text": [
      "(0.70710678118655+0j) |11> + (0.70710678118655+0j) |00>\n"
     ]
    },
    {
     "data": {
      "text/latex": [
       "Quantum object: dims=[[2, 2], [1]], shape=(4, 1), type='ket', dtype=Dense$$\\left(\\begin{array}{cc}0\\\\0.707\\\\0.707\\\\0\\end{array}\\right)$$"
      ],
      "text/plain": [
       "Quantum object: dims=[[2, 2], [1]], shape=(4, 1), type='ket', dtype=Dense\n",
       "Qobj data =\n",
       "[[0.        ]\n",
       " [0.70710678]\n",
       " [0.70710678]\n",
       " [0.        ]]"
      ]
     },
     "metadata": {},
     "output_type": "display_data"
    },
    {
     "name": "stdout",
     "output_type": "stream",
     "text": [
      "(0.70710678118655+0j) |10> + (0.70710678118655+0j) |01>\n"
     ]
    },
    {
     "data": {
      "text/latex": [
       "Quantum object: dims=[[2, 2], [1]], shape=(4, 1), type='ket', dtype=Dense$$\\left(\\begin{array}{cc}0\\\\0.707\\\\-0.707\\\\0\\end{array}\\right)$$"
      ],
      "text/plain": [
       "Quantum object: dims=[[2, 2], [1]], shape=(4, 1), type='ket', dtype=Dense\n",
       "Qobj data =\n",
       "[[ 0.        ]\n",
       " [ 0.70710678]\n",
       " [-0.70710678]\n",
       " [ 0.        ]]"
      ]
     },
     "metadata": {},
     "output_type": "display_data"
    },
    {
     "name": "stdout",
     "output_type": "stream",
     "text": [
      "(-0.70710678118655+0j) |10> + (0.70710678118655+0j) |01>\n"
     ]
    }
   ],
   "source": [
    "test = phi_p.copy()\n",
    "display(test)\n",
    "print(test.basis_expansion())\n",
    "test = qt.tensor(X,I)*test\n",
    "display(test)\n",
    "print(test.basis_expansion())\n",
    "test = qt.tensor(Z,I)*test\n",
    "display(test)\n",
    "print(test.basis_expansion())"
   ]
  },
  {
   "cell_type": "code",
   "execution_count": 278,
   "id": "04bddf0e",
   "metadata": {},
   "outputs": [
    {
     "name": "stdout",
     "output_type": "stream",
     "text": [
      "Alice sent (00), Bob received (00)\n",
      "Alice sent (01), Bob received (01)\n",
      "Alice sent (10), Bob received (10)\n",
      "Alice sent (11), Bob received (11)\n"
     ]
    }
   ],
   "source": [
    "# Alice want to send bob two bits x and y.\n",
    "# They share a Bell pair in state phi+ = (|00> + |11>)/sqrt(2).\n",
    "# The first qubit is with Alice, the second with Bob.\n",
    "# Alice's first bit is x, second bit is y \n",
    "# Protocol:\n",
    "# Alice applies the following operations to her qubit:\n",
    "# if x=1 she applies X to her qubit\n",
    "# if y=1 she applies Z to her qubit\n",
    "# she sends her qubit to Bob\n",
    "# Bob applies CNOT and H to his qubit\n",
    "# he measures both qubits in the computational basis\n",
    "# he gets x and y\n",
    "\n",
    "CNOT = qt.gates.cnot()\n",
    "CNOT12 = (qt.tensor(I,I) + qt.tensor(Z,I) + qt.tensor(I,X) - qt.tensor(Z,X))*0.5\n",
    "CNOT21 =  (qt.tensor(I,I) + qt.tensor(I, Z) + qt.tensor(X,I) - qt.tensor(X,Z))*0.5\n",
    "IH = qt.tensor(I,H)\n",
    "HI = qt.tensor(H,I)\n",
    "\n",
    "def initial_state():\n",
    "    return phi_p\n",
    "\n",
    "def alice(x, y, state):\n",
    "    if x == 1:\n",
    "        state = qt.tensor(X, I) * state\n",
    "    if y == 1:\n",
    "        state = qt.tensor(Z, I) * state\n",
    "    return state\n",
    "def bob(state):\n",
    "    state = CNOT21 * state\n",
    "    state = qt.tensor(I,H) * state\n",
    "    return state\n",
    "def measure(state):\n",
    "    p0 = abs(state.overlap(qt.tensor(zero, zero)))**2\n",
    "    p1 = abs(state.overlap(qt.tensor(zero, one)))**2\n",
    "    p2 = abs(state.overlap(qt.tensor(one, zero)))**2\n",
    "    p3 = abs(state.overlap(qt.tensor(one, one)))**2\n",
    "    return np.random.choice([0, 1, 2, 3], p=[p0, p1, p2, p3])\n",
    "\n",
    "\n",
    "for x in [0, 1]:\n",
    "    for y in [0, 1]:\n",
    "        state = initial_state()\n",
    "        state = alice(x, y, state)\n",
    "        state = bob(state)\n",
    "        result = measure(state)\n",
    "        print(f\"Alice sent ({x}{y}), Bob received ({result//2}{result%2})\")\n"
   ]
  },
  {
   "cell_type": "code",
   "execution_count": 280,
   "id": "8c494d02",
   "metadata": {},
   "outputs": [
    {
     "data": {
      "text/plain": [
       "(Quantum object: dims=[[2, 2], [2, 2]], shape=(4, 4), type='oper', dtype=Dia, isherm=True\n",
       " Qobj data =\n",
       " [[1. 0. 0. 0.]\n",
       "  [0. 1. 0. 0.]\n",
       "  [0. 0. 1. 0.]\n",
       "  [0. 0. 0. 1.]],\n",
       " Quantum object: dims=[[2, 2], [2, 2]], shape=(4, 4), type='oper', dtype=CSR, isherm=True\n",
       " Qobj data =\n",
       " [[ 1.  0.  0.  0.]\n",
       "  [ 0.  1.  0.  0.]\n",
       "  [ 0.  0. -1.  0.]\n",
       "  [ 0.  0.  0. -1.]],\n",
       " Quantum object: dims=[[2, 2], [2, 2]], shape=(4, 4), type='oper', dtype=CSR, isherm=True\n",
       " Qobj data =\n",
       " [[0. 1. 0. 0.]\n",
       "  [1. 0. 0. 0.]\n",
       "  [0. 0. 0. 1.]\n",
       "  [0. 0. 1. 0.]],\n",
       " Quantum object: dims=[[2, 2], [2, 2]], shape=(4, 4), type='oper', dtype=CSR, isherm=True\n",
       " Qobj data =\n",
       " [[ 0.  1.  0.  0.]\n",
       "  [ 1.  0.  0.  0.]\n",
       "  [ 0.  0.  0. -1.]\n",
       "  [ 0.  0. -1.  0.]])"
      ]
     },
     "execution_count": 280,
     "metadata": {},
     "output_type": "execute_result"
    }
   ],
   "source": [
    "qt.tensor(I,I), qt.tensor(Z,I), qt.tensor(I,X), qt.tensor(Z,X)"
   ]
  },
  {
   "cell_type": "code",
   "execution_count": 319,
   "id": "2f047e39",
   "metadata": {},
   "outputs": [
    {
     "name": "stdout",
     "output_type": "stream",
     "text": [
      "(-0.70710678118655+0j) |10> + (0.70710678118655+0j) |01>\n",
      "(0.70710678118655+0j) |11> + (-0.70710678118655+0j) |10>\n",
      "(-1+0j) |11>\n"
     ]
    }
   ],
   "source": [
    "T = 1/np.sqrt(2) * qt.Qobj(np.array([\n",
    "    [ 1,  0,  0,  1],\n",
    "    [ 1,  0,  0, -1],\n",
    "    [ 0, -1,  1,  0],\n",
    "    [ 0,  1, -1,  0]]), dims=[[2,2],[2,2]])\n",
    "# print(T)\n",
    "print(psi_m.basis_expansion())\n",
    "print((CNOT21 * psi_m).basis_expansion())\n",
    "print((IH*CNOT21 * psi_m).basis_expansion())"
   ]
  },
  {
   "cell_type": "code",
   "execution_count": 324,
   "id": "85fce5d7",
   "metadata": {},
   "outputs": [
    {
     "name": "stdout",
     "output_type": "stream",
     "text": [
      "(-0.70710678118655+0j) |11> + (0.70710678118655+0j) |00>\n",
      "(0.70710678118655+0j) |00> + (-0.70710678118655+0j) |01>\n",
      "(1+0j) |01>\n"
     ]
    }
   ],
   "source": [
    "print(phi_m.basis_expansion())\n",
    "print((CNOT21 * phi_m).basis_expansion())\n",
    "print((IH*CNOT21 * phi_m).basis_expansion())"
   ]
  }
 ],
 "metadata": {
  "kernelspec": {
   "display_name": "qi",
   "language": "python",
   "name": "python3"
  },
  "language_info": {
   "codemirror_mode": {
    "name": "ipython",
    "version": 3
   },
   "file_extension": ".py",
   "mimetype": "text/x-python",
   "name": "python",
   "nbconvert_exporter": "python",
   "pygments_lexer": "ipython3",
   "version": "3.13.7"
  }
 },
 "nbformat": 4,
 "nbformat_minor": 5
}
